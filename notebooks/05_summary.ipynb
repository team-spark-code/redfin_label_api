{
 "cells": [
  {
   "cell_type": "raw",
   "id": "c2045000",
   "metadata": {
    "vscode": {
     "languageId": "raw"
    }
   },
   "source": [
    "모델\n",
    "- 영문: facebook/bart-large-cnn, google/pegasus-xsum, distilbart-cnn-12-6\n",
    "- 국문: kobart, kot5-base-summarization\n",
    "- 로컬 LLM: gemma3:4b-it-qat (요약 지시문 + 길이 제약), 필요 시 Map-Reduce\n",
    "\n",
    "---\n",
    "- 뉴스 기사·리포트 요약에 최적화 (어느 관점에서?)\n",
    "- 성능과 속도의 균형이 좋음"
   ]
  },
  {
   "cell_type": "code",
   "execution_count": null,
   "id": "81c1f075",
   "metadata": {},
   "outputs": [],
   "source": [
    "# pip install transformers torch\n",
    "from transformers import BartForConditionalGeneration, BartTokenizer\n",
    "\n",
    "# https://huggingface.co/facebook/bart-large-cnn\n",
    "model_name = \"facebook/bart-large-cnn\"\n",
    "tokenizer = BartTokenizer.from_pretrained(model_name)\n",
    "model = BartForConditionalGeneration.from_pretrained(model_name)\n",
    "\n",
    "# 요약 함수\n",
    "def summarize_text(text, max_length=130, min_len=30):"
   ]
  }
 ],
 "metadata": {
  "kernelspec": {
   "display_name": ".venv",
   "language": "python",
   "name": "python3"
  },
  "language_info": {
   "codemirror_mode": {
    "name": "ipython",
    "version": 3
   },
   "file_extension": ".py",
   "mimetype": "text/x-python",
   "name": "python",
   "nbconvert_exporter": "python",
   "pygments_lexer": "ipython3",
   "version": "3.12.3"
  }
 },
 "nbformat": 4,
 "nbformat_minor": 5
}
