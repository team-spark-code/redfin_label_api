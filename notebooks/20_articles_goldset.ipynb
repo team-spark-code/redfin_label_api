{
 "cells": [
  {
   "cell_type": "code",
   "execution_count": 2,
   "id": "76824fd3",
   "metadata": {},
   "outputs": [],
   "source": [
    "import json\n",
    "import pandas as pd\n",
    "from pathlib import Path\n",
    "\n",
    "import yake\n",
    "from keybert import KeyBERT\n",
    "from sentence_transformers import SentenceTransformer"
   ]
  },
  {
   "cell_type": "code",
   "execution_count": 12,
   "id": "18290afc",
   "metadata": {},
   "outputs": [
    {
     "name": "stdout",
     "output_type": "stream",
     "text": [
      "[PosixPath('/home/user/workspace/redfin/redfin_label_api/data/keywords/goldset_10.jsonl')]\n",
      "/home/user/workspace/redfin/redfin_label_api/data/keywords\n"
     ]
    }
   ],
   "source": [
    "DATA_DIR  = Path.cwd().parent / \"data\" / \"keywords\"\n",
    "#INPUT_FILES = [DATA_DIR / \"goldset_10.jsonl\", DATA_DIR / \"goldset_50.jsonl\"]\n",
    "INPUT_FILES = [DATA_DIR / \"goldset_10.jsonl\"]\n",
    "DATA_DIR.mkdir(exist_ok=True)\n",
    "TOP_K = 10\n",
    "print(INPUT_FILES)\n",
    "print(DATA_DIR)"
   ]
  },
  {
   "cell_type": "code",
   "execution_count": 13,
   "metadata": {},
   "outputs": [],
   "source": [
    "# YAKE + KeyBERT\n",
    "yake_ex = yake.KeywordExtractor(lan=\"en\", n=3, top=TOP_K, dedupLim=0.9, windowsSize=2)\n",
    "embed_model = SentenceTransformer(\"sentence-transformers/all-MiniLM-L6-v2\")\n",
    "kb = KeyBERT(model=embed_model)"
   ]
  },
  {
   "cell_type": "code",
   "execution_count": 14,
   "metadata": {},
   "outputs": [],
   "source": [
    "def extract_keywords(text: str, top_k: int = TOP_K) -> dict:\n",
    "    \"\"\"\n",
    "    YAKE와 KeyBERT를 동시에 적용한 키워드 후보 집합 반환\n",
    "    \"\"\"\n",
    "    if not text or not text.strip():\n",
    "        return {\"yake\": [], \"keybert\": []}\n",
    "    \n",
    "    keys_yake = [kw for kw, _ in yake_ex.extract_keywords(text)]\n",
    "    keys_kb   = [kw for kw, _ in kb.extract_keywords(\n",
    "        text, keyphrase_ngram_range=(1,3), top_n=top_k,\n",
    "        use_maxsum=True, nr_candidates=20, diversity=0.6\n",
    "    )]\n",
    "    return {\"yake\": keys_yake, \"keybert\": keys_kb}"
   ]
  },
  {
   "cell_type": "code",
   "execution_count": 15,
   "id": "5ba9106a",
   "metadata": {},
   "outputs": [
    {
     "name": "stdout",
     "output_type": "stream",
     "text": [
      "Saved: /home/user/workspace/redfin/redfin_label_api/data/keywords/goldset_10_keywords.json\n"
     ]
    }
   ],
   "source": [
    "for f in INPUT_FILES:\n",
    "    out_map = {}\n",
    "    with open(f, \"r\", encoding=\"utf-8\") as fin:\n",
    "        for ln in fin:\n",
    "            try:\n",
    "                obj = json.loads(ln)\n",
    "                doc_id = obj.get(\"_id\") or obj.get(\"guid\") or None\n",
    "                text = \" \".join([\n",
    "                    obj.get(\"title\",\"\"), obj.get(\"summary\",\"\"), obj.get(\"body_text\",\"\")\n",
    "                ]).strip()\n",
    "                kws = extract_keywords(text, top_k=TOP_K)\n",
    "                print(kws)\n",
    "                out_map[doc_id] = kws\n",
    "            except Exception as e:\n",
    "                print(f\"[warn] failed line: {e}\")\n",
    "    \n",
    "    # 결과 저장\n",
    "    out_path = DATA_DIR / f\"{Path(f).stem}_keywords.json\"\n",
    "    with open(out_path, \"w\", encoding=\"utf-8\") as fout:\n",
    "        json.dump(out_map, fout, ensure_ascii=False, indent=2)\n",
    "    print(f\"Saved: {out_path}\")"
   ]
  },
  {
   "cell_type": "code",
   "execution_count": null,
   "id": "df456c2c",
   "metadata": {},
   "outputs": [],
   "source": []
  }
 ],
 "metadata": {
  "kernelspec": {
   "display_name": ".venv",
   "language": "python",
   "name": "python3"
  },
  "language_info": {
   "codemirror_mode": {
    "name": "ipython",
    "version": 3
   },
   "file_extension": ".py",
   "mimetype": "text/x-python",
   "name": "python",
   "nbconvert_exporter": "python",
   "pygments_lexer": "ipython3",
   "version": "3.12.3"
  }
 },
 "nbformat": 4,
 "nbformat_minor": 5
}
